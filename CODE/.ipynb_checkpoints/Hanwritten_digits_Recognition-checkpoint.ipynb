{
 "cells": [
  {
   "cell_type": "markdown",
   "id": "e198bb63",
   "metadata": {},
   "source": [
    "# MNIST Handwritten Digit Recognition"
   ]
  },
  {
   "cell_type": "code",
   "execution_count": 1,
   "id": "95c89d45",
   "metadata": {},
   "outputs": [],
   "source": [
    "import numpy as np\n",
    "import pandas as pd\n",
    "import matplotlib.pyplot as plt\n",
    "import seaborn as sns"
   ]
  },
  {
   "cell_type": "markdown",
   "id": "7143defd",
   "metadata": {},
   "source": [
    "Above we are importing the required libraries for the project"
   ]
  },
  {
   "cell_type": "markdown",
   "id": "d114c484",
   "metadata": {},
   "source": [
    "## We train our model with the file given to us"
   ]
  },
  {
   "cell_type": "code",
   "execution_count": 2,
   "id": "8aabed61",
   "metadata": {},
   "outputs": [],
   "source": [
    "data_df = pd.read_csv(\"train.csv\")"
   ]
  },
  {
   "cell_type": "code",
   "execution_count": 3,
   "id": "72758883",
   "metadata": {},
   "outputs": [
    {
     "data": {
      "text/html": [
       "<div>\n",
       "<style scoped>\n",
       "    .dataframe tbody tr th:only-of-type {\n",
       "        vertical-align: middle;\n",
       "    }\n",
       "\n",
       "    .dataframe tbody tr th {\n",
       "        vertical-align: top;\n",
       "    }\n",
       "\n",
       "    .dataframe thead th {\n",
       "        text-align: right;\n",
       "    }\n",
       "</style>\n",
       "<table border=\"1\" class=\"dataframe\">\n",
       "  <thead>\n",
       "    <tr style=\"text-align: right;\">\n",
       "      <th></th>\n",
       "      <th>label</th>\n",
       "      <th>1x1</th>\n",
       "      <th>1x2</th>\n",
       "      <th>1x3</th>\n",
       "      <th>1x4</th>\n",
       "      <th>1x5</th>\n",
       "      <th>1x6</th>\n",
       "      <th>1x7</th>\n",
       "      <th>1x8</th>\n",
       "      <th>1x9</th>\n",
       "      <th>...</th>\n",
       "      <th>28x19</th>\n",
       "      <th>28x20</th>\n",
       "      <th>28x21</th>\n",
       "      <th>28x22</th>\n",
       "      <th>28x23</th>\n",
       "      <th>28x24</th>\n",
       "      <th>28x25</th>\n",
       "      <th>28x26</th>\n",
       "      <th>28x27</th>\n",
       "      <th>28x28</th>\n",
       "    </tr>\n",
       "  </thead>\n",
       "  <tbody>\n",
       "    <tr>\n",
       "      <th>0</th>\n",
       "      <td>1</td>\n",
       "      <td>0</td>\n",
       "      <td>0</td>\n",
       "      <td>0</td>\n",
       "      <td>0</td>\n",
       "      <td>0</td>\n",
       "      <td>0</td>\n",
       "      <td>0</td>\n",
       "      <td>0</td>\n",
       "      <td>0</td>\n",
       "      <td>...</td>\n",
       "      <td>0</td>\n",
       "      <td>0</td>\n",
       "      <td>0</td>\n",
       "      <td>0</td>\n",
       "      <td>0</td>\n",
       "      <td>0</td>\n",
       "      <td>0</td>\n",
       "      <td>0</td>\n",
       "      <td>0</td>\n",
       "      <td>0</td>\n",
       "    </tr>\n",
       "    <tr>\n",
       "      <th>1</th>\n",
       "      <td>0</td>\n",
       "      <td>0</td>\n",
       "      <td>0</td>\n",
       "      <td>0</td>\n",
       "      <td>0</td>\n",
       "      <td>0</td>\n",
       "      <td>0</td>\n",
       "      <td>0</td>\n",
       "      <td>0</td>\n",
       "      <td>0</td>\n",
       "      <td>...</td>\n",
       "      <td>0</td>\n",
       "      <td>0</td>\n",
       "      <td>0</td>\n",
       "      <td>0</td>\n",
       "      <td>0</td>\n",
       "      <td>0</td>\n",
       "      <td>0</td>\n",
       "      <td>0</td>\n",
       "      <td>0</td>\n",
       "      <td>0</td>\n",
       "    </tr>\n",
       "    <tr>\n",
       "      <th>2</th>\n",
       "      <td>1</td>\n",
       "      <td>0</td>\n",
       "      <td>0</td>\n",
       "      <td>0</td>\n",
       "      <td>0</td>\n",
       "      <td>0</td>\n",
       "      <td>0</td>\n",
       "      <td>0</td>\n",
       "      <td>0</td>\n",
       "      <td>0</td>\n",
       "      <td>...</td>\n",
       "      <td>0</td>\n",
       "      <td>0</td>\n",
       "      <td>0</td>\n",
       "      <td>0</td>\n",
       "      <td>0</td>\n",
       "      <td>0</td>\n",
       "      <td>0</td>\n",
       "      <td>0</td>\n",
       "      <td>0</td>\n",
       "      <td>0</td>\n",
       "    </tr>\n",
       "    <tr>\n",
       "      <th>3</th>\n",
       "      <td>4</td>\n",
       "      <td>0</td>\n",
       "      <td>0</td>\n",
       "      <td>0</td>\n",
       "      <td>0</td>\n",
       "      <td>0</td>\n",
       "      <td>0</td>\n",
       "      <td>0</td>\n",
       "      <td>0</td>\n",
       "      <td>0</td>\n",
       "      <td>...</td>\n",
       "      <td>0</td>\n",
       "      <td>0</td>\n",
       "      <td>0</td>\n",
       "      <td>0</td>\n",
       "      <td>0</td>\n",
       "      <td>0</td>\n",
       "      <td>0</td>\n",
       "      <td>0</td>\n",
       "      <td>0</td>\n",
       "      <td>0</td>\n",
       "    </tr>\n",
       "    <tr>\n",
       "      <th>4</th>\n",
       "      <td>0</td>\n",
       "      <td>0</td>\n",
       "      <td>0</td>\n",
       "      <td>0</td>\n",
       "      <td>0</td>\n",
       "      <td>0</td>\n",
       "      <td>0</td>\n",
       "      <td>0</td>\n",
       "      <td>0</td>\n",
       "      <td>0</td>\n",
       "      <td>...</td>\n",
       "      <td>0</td>\n",
       "      <td>0</td>\n",
       "      <td>0</td>\n",
       "      <td>0</td>\n",
       "      <td>0</td>\n",
       "      <td>0</td>\n",
       "      <td>0</td>\n",
       "      <td>0</td>\n",
       "      <td>0</td>\n",
       "      <td>0</td>\n",
       "    </tr>\n",
       "  </tbody>\n",
       "</table>\n",
       "<p>5 rows × 785 columns</p>\n",
       "</div>"
      ],
      "text/plain": [
       "   label  1x1  1x2  1x3  1x4  1x5  1x6  1x7  1x8  1x9  ...  28x19  28x20  \\\n",
       "0      1    0    0    0    0    0    0    0    0    0  ...      0      0   \n",
       "1      0    0    0    0    0    0    0    0    0    0  ...      0      0   \n",
       "2      1    0    0    0    0    0    0    0    0    0  ...      0      0   \n",
       "3      4    0    0    0    0    0    0    0    0    0  ...      0      0   \n",
       "4      0    0    0    0    0    0    0    0    0    0  ...      0      0   \n",
       "\n",
       "   28x21  28x22  28x23  28x24  28x25  28x26  28x27  28x28  \n",
       "0      0      0      0      0      0      0      0      0  \n",
       "1      0      0      0      0      0      0      0      0  \n",
       "2      0      0      0      0      0      0      0      0  \n",
       "3      0      0      0      0      0      0      0      0  \n",
       "4      0      0      0      0      0      0      0      0  \n",
       "\n",
       "[5 rows x 785 columns]"
      ]
     },
     "execution_count": 3,
     "metadata": {},
     "output_type": "execute_result"
    }
   ],
   "source": [
    "data_df.head()"
   ]
  },
  {
   "cell_type": "code",
   "execution_count": 4,
   "id": "82b4c957",
   "metadata": {},
   "outputs": [],
   "source": [
    "x0=data_df.drop(\"label\", axis=1)"
   ]
  },
  {
   "cell_type": "code",
   "execution_count": 5,
   "id": "fb779d7a",
   "metadata": {},
   "outputs": [],
   "source": [
    "y0=data_df[\"label\"]"
   ]
  },
  {
   "cell_type": "code",
   "execution_count": 6,
   "id": "975c2a92",
   "metadata": {},
   "outputs": [
    {
     "data": {
      "text/plain": [
       "<matplotlib.image.AxesImage at 0x244df5dd430>"
      ]
     },
     "execution_count": 6,
     "metadata": {},
     "output_type": "execute_result"
    },
    {
     "data": {
      "image/png": "[encoded data removed]",
      "text/plain": [
       "<Figure size 432x288 with 1 Axes>"
      ]
     },
     "metadata": {
      "needs_background": "light"
     },
     "output_type": "display_data"
    }
   ],
   "source": [
    "plt.figure()\n",
    "digit=1277\n",
    "image=x0.iloc[digit].to_numpy()\n",
    "plt.imshow(np.reshape(image,(28,28)))"
   ]
  },
  {
   "cell_type": "code",
   "execution_count": 7,
   "id": "bdc2608d",
   "metadata": {},
   "outputs": [
    {
     "name": "stdout",
     "output_type": "stream",
     "text": [
      "The Digit above is 9\n"
     ]
    }
   ],
   "source": [
    "print(\"The Digit above is\", y0[digit])"
   ]
  },
  {
   "cell_type": "code",
   "execution_count": 8,
   "id": "4e8a59de",
   "metadata": {},
   "outputs": [
    {
     "data": {
      "text/plain": [
       "<matplotlib.image.AxesImage at 0x244defee730>"
      ]
     },
     "execution_count": 8,
     "metadata": {},
     "output_type": "execute_result"
    },
    {
     "data": {
      "image/png": "[encoded data removed]",
      "text/plain": [
       "<Figure size 432x288 with 1 Axes>"
      ]
     },
     "metadata": {
      "needs_background": "light"
     },
     "output_type": "display_data"
    }
   ],
   "source": [
    "plt.figure()\n",
    "digit=1001\n",
    "image=x0.iloc[digit].to_numpy()\n",
    "plt.imshow(np.reshape(image,(28,28)))"
   ]
  },
  {
   "cell_type": "code",
   "execution_count": 9,
   "id": "5165e7af",
   "metadata": {},
   "outputs": [
    {
     "name": "stdout",
     "output_type": "stream",
     "text": [
      "The Digit above is 5\n"
     ]
    }
   ],
   "source": [
    "print(\"The Digit above is\", y0[digit])"
   ]
  },
  {
   "cell_type": "markdown",
   "id": "4ed372df",
   "metadata": {},
   "source": [
    "### Thus from above we can conclude that we have an accurate model with the correct deductions as the pictures and the displayed text are the same. Next we check if our dataset is well balanced"
   ]
  },
  {
   "cell_type": "code",
   "execution_count": 10,
   "id": "b323de46",
   "metadata": {},
   "outputs": [
    {
     "data": {
      "text/plain": [
       "<AxesSubplot:xlabel='label', ylabel='count'>"
      ]
     },
     "execution_count": 10,
     "metadata": {},
     "output_type": "execute_result"
    },
    {
     "data": {
      "image/png": "[encoded data removed]",
      "text/plain": [
       "<Figure size 432x288 with 1 Axes>"
      ]
     },
     "metadata": {
      "needs_background": "light"
     },
     "output_type": "display_data"
    }
   ],
   "source": [
    "sns.countplot(x='label', data=data_df)"
   ]
  },
  {
   "cell_type": "markdown",
   "id": "a4a95e28",
   "metadata": {},
   "source": [
    "From the above plot it is evident that the dataset that we used to train our model is well balanced"
   ]
  },
  {
   "cell_type": "markdown",
   "id": "b2ae1406",
   "metadata": {},
   "source": [
    "## Now we can proceed to train our KNN model with the given dataset"
   ]
  },
  {
   "cell_type": "markdown",
   "id": "9f38d094",
   "metadata": {},
   "source": [
    "For this purpose we import several libraries"
   ]
  },
  {
   "cell_type": "code",
   "execution_count": 11,
   "id": "f0b670c6",
   "metadata": {},
   "outputs": [],
   "source": [
    "from sklearn.model_selection import  train_test_split\n",
    "from sklearn.neighbors import KNeighborsClassifier\n",
    "from sklearn.metrics import accuracy_score\n",
    "from sklearn.metrics import classification_report\n",
    "from sklearn.metrics import confusion_matrix"
   ]
  },
  {
   "cell_type": "markdown",
   "id": "47586fd9",
   "metadata": {},
   "source": [
    "Next we import the data set given to us for testing using pandas"
   ]
  },
  {
   "cell_type": "code",
   "execution_count": 12,
   "id": "837b40ac",
   "metadata": {},
   "outputs": [
    {
     "data": {
      "text/plain": [
       "((42000, 784), (42000,))"
      ]
     },
     "execution_count": 12,
     "metadata": {},
     "output_type": "execute_result"
    }
   ],
   "source": [
    "test_d=pd.read_csv(\"test.csv\")\n",
    "test_d.shape\n",
    "x_test0=test_d.drop(\"label\",axis=1)\n",
    "y_test0=test_d[\"label\"]\n",
    "x0.shape,y0.shape"
   ]
  },
  {
   "cell_type": "markdown",
   "id": "697a16f7",
   "metadata": {},
   "source": [
    "## For the first iteration we use K=3 for our KNN algorithm"
   ]
  },
  {
   "cell_type": "code",
   "execution_count": 13,
   "id": "6ebc70c2",
   "metadata": {},
   "outputs": [
    {
     "data": {
      "text/plain": [
       "KNeighborsClassifier(n_neighbors=3)"
      ]
     },
     "execution_count": 13,
     "metadata": {},
     "output_type": "execute_result"
    }
   ],
   "source": [
    "class_3=KNeighborsClassifier(n_neighbors=3)\n",
    "class_3.fit(x0,y0)"
   ]
  },
  {
   "cell_type": "code",
   "execution_count": 14,
   "id": "82b8b102",
   "metadata": {},
   "outputs": [
    {
     "name": "stdout",
     "output_type": "stream",
     "text": [
      "[7 2 1 ... 4 5 6]\n"
     ]
    }
   ],
   "source": [
    "predict_3= class_3.predict(x_test0)\n",
    "print(predict_3)"
   ]
  },
  {
   "cell_type": "code",
   "execution_count": 15,
   "id": "2c840cf9",
   "metadata": {},
   "outputs": [
    {
     "name": "stdout",
     "output_type": "stream",
     "text": [
      "0.9774\n"
     ]
    }
   ],
   "source": [
    "print(accuracy_score(y_test0,predict_3))"
   ]
  },
  {
   "cell_type": "code",
   "execution_count": 16,
   "id": "6187de30",
   "metadata": {},
   "outputs": [
    {
     "name": "stdout",
     "output_type": "stream",
     "text": [
      "              precision    recall  f1-score   support\n",
      "\n",
      "           0       0.98      0.99      0.99       980\n",
      "           1       0.97      1.00      0.98      1135\n",
      "           2       0.99      0.97      0.98      1032\n",
      "           3       0.97      0.98      0.98      1010\n",
      "           4       0.98      0.98      0.98       982\n",
      "           5       0.97      0.98      0.98       892\n",
      "           6       0.99      0.99      0.99       958\n",
      "           7       0.97      0.97      0.97      1028\n",
      "           8       1.00      0.95      0.97       974\n",
      "           9       0.97      0.96      0.97      1009\n",
      "\n",
      "    accuracy                           0.98     10000\n",
      "   macro avg       0.98      0.98      0.98     10000\n",
      "weighted avg       0.98      0.98      0.98     10000\n",
      "\n"
     ]
    }
   ],
   "source": [
    "print(classification_report(y_test0,predict_3))"
   ]
  },
  {
   "cell_type": "code",
   "execution_count": 17,
   "id": "9fa2fd2d",
   "metadata": {},
   "outputs": [
    {
     "name": "stdout",
     "output_type": "stream",
     "text": [
      "[[ 973    1    1    0    0    1    3    1    0    0]\n",
      " [   0 1134    1    0    0    0    0    0    0    0]\n",
      " [   6    6 1005    1    0    0    1   11    2    0]\n",
      " [   1    2    3  989    1    6    0    6    0    2]\n",
      " [   0    4    0    0  961    0    2    2    0   13]\n",
      " [   3    0    0    8    2  871    2    1    1    4]\n",
      " [   5    4    0    0    2    2  945    0    0    0]\n",
      " [   0   15    3    0    1    0    0 1000    0    9]\n",
      " [   5    2    3   13    5   11    2    4  923    6]\n",
      " [   2    6    2    6    8    3    1    8    0  973]]\n"
     ]
    }
   ],
   "source": [
    "print(confusion_matrix(y_test0,predict_3))"
   ]
  },
  {
   "cell_type": "markdown",
   "id": "fa9f16dc",
   "metadata": {},
   "source": [
    "### K=3 Accuracy= 97.74%"
   ]
  },
  {
   "cell_type": "markdown",
   "id": "62591728",
   "metadata": {},
   "source": [
    "### For K=3 we get a good prediction accuracy percentage of 97.74%\n",
    "To find the best value of K we repeat this training for more values of K."
   ]
  },
  {
   "cell_type": "markdown",
   "id": "4e131b2e",
   "metadata": {},
   "source": [
    "# K=9"
   ]
  },
  {
   "cell_type": "code",
   "execution_count": 18,
   "id": "b21e8d17",
   "metadata": {},
   "outputs": [
    {
     "data": {
      "text/plain": [
       "KNeighborsClassifier(n_neighbors=9)"
      ]
     },
     "execution_count": 18,
     "metadata": {},
     "output_type": "execute_result"
    }
   ],
   "source": [
    "class_9=KNeighborsClassifier(n_neighbors=9)\n",
    "class_9.fit(x0,y0)"
   ]
  },
  {
   "cell_type": "code",
   "execution_count": 19,
   "id": "db14b485",
   "metadata": {},
   "outputs": [
    {
     "name": "stdout",
     "output_type": "stream",
     "text": [
      "[7 2 1 ... 4 5 6]\n"
     ]
    }
   ],
   "source": [
    "predict_9= class_9.predict(x_test0)\n",
    "print(predict_9)"
   ]
  },
  {
   "cell_type": "code",
   "execution_count": 20,
   "id": "63fb74dc",
   "metadata": {},
   "outputs": [
    {
     "name": "stdout",
     "output_type": "stream",
     "text": [
      "0.9699\n"
     ]
    }
   ],
   "source": [
    "print(accuracy_score(y_test0,predict_9))"
   ]
  },
  {
   "cell_type": "code",
   "execution_count": 21,
   "id": "148ab62c",
   "metadata": {},
   "outputs": [
    {
     "name": "stdout",
     "output_type": "stream",
     "text": [
      "              precision    recall  f1-score   support\n",
      "\n",
      "           0       0.97      0.99      0.98       980\n",
      "           1       0.95      1.00      0.97      1135\n",
      "           2       0.98      0.95      0.97      1032\n",
      "           3       0.97      0.98      0.97      1010\n",
      "           4       0.98      0.96      0.97       982\n",
      "           5       0.97      0.98      0.97       892\n",
      "           6       0.98      0.99      0.98       958\n",
      "           7       0.96      0.96      0.96      1028\n",
      "           8       0.99      0.95      0.97       974\n",
      "           9       0.96      0.96      0.96      1009\n",
      "\n",
      "    accuracy                           0.97     10000\n",
      "   macro avg       0.97      0.97      0.97     10000\n",
      "weighted avg       0.97      0.97      0.97     10000\n",
      "\n"
     ]
    }
   ],
   "source": [
    "print(classification_report(y_test0,predict_9))"
   ]
  },
  {
   "cell_type": "markdown",
   "id": "a416a27d",
   "metadata": {},
   "source": [
    "### K=9 Accuracy= 96.99%"
   ]
  },
  {
   "cell_type": "markdown",
   "id": "95fd6fe7",
   "metadata": {},
   "source": [
    "# K=2"
   ]
  },
  {
   "cell_type": "code",
   "execution_count": 22,
   "id": "70cb3c49",
   "metadata": {},
   "outputs": [
    {
     "data": {
      "text/plain": [
       "KNeighborsClassifier(n_neighbors=2)"
      ]
     },
     "execution_count": 22,
     "metadata": {},
     "output_type": "execute_result"
    }
   ],
   "source": [
    "class_2=KNeighborsClassifier(n_neighbors=2)\n",
    "class_2.fit(x0,y0)"
   ]
  },
  {
   "cell_type": "code",
   "execution_count": 23,
   "id": "679f850c",
   "metadata": {},
   "outputs": [
    {
     "name": "stdout",
     "output_type": "stream",
     "text": [
      "[7 2 1 ... 4 5 6]\n"
     ]
    }
   ],
   "source": [
    "predict_2= class_2.predict(x_test0)\n",
    "print(predict_2)"
   ]
  },
  {
   "cell_type": "code",
   "execution_count": 24,
   "id": "c967447a",
   "metadata": {},
   "outputs": [
    {
     "name": "stdout",
     "output_type": "stream",
     "text": [
      "0.9727\n"
     ]
    }
   ],
   "source": [
    "print(accuracy_score(y_test0,predict_2))"
   ]
  },
  {
   "cell_type": "code",
   "execution_count": 25,
   "id": "1d8a11db",
   "metadata": {},
   "outputs": [
    {
     "name": "stdout",
     "output_type": "stream",
     "text": [
      "              precision    recall  f1-score   support\n",
      "\n",
      "           0       0.98      1.00      0.99       980\n",
      "           1       0.96      1.00      0.98      1135\n",
      "           2       0.98      0.98      0.98      1032\n",
      "           3       0.95      0.99      0.97      1010\n",
      "           4       0.96      0.99      0.97       982\n",
      "           5       0.97      0.96      0.97       892\n",
      "           6       0.99      0.98      0.99       958\n",
      "           7       0.96      0.97      0.96      1028\n",
      "           8       1.00      0.92      0.96       974\n",
      "           9       0.99      0.94      0.96      1009\n",
      "\n",
      "    accuracy                           0.97     10000\n",
      "   macro avg       0.97      0.97      0.97     10000\n",
      "weighted avg       0.97      0.97      0.97     10000\n",
      "\n"
     ]
    }
   ],
   "source": [
    "print(classification_report(y_test0,predict_2))"
   ]
  },
  {
   "cell_type": "markdown",
   "id": "a7074687",
   "metadata": {},
   "source": [
    "### K=2 Accuracy= 97.27%"
   ]
  },
  {
   "cell_type": "markdown",
   "id": "1b42e49e",
   "metadata": {},
   "source": [
    "# K=4"
   ]
  },
  {
   "cell_type": "code",
   "execution_count": 26,
   "id": "288f9c57",
   "metadata": {},
   "outputs": [
    {
     "data": {
      "text/plain": [
       "KNeighborsClassifier(n_neighbors=4)"
      ]
     },
     "execution_count": 26,
     "metadata": {},
     "output_type": "execute_result"
    }
   ],
   "source": [
    "class_4=KNeighborsClassifier(n_neighbors=4)\n",
    "class_4.fit(x0,y0)"
   ]
  },
  {
   "cell_type": "code",
   "execution_count": 27,
   "id": "1476cad4",
   "metadata": {},
   "outputs": [
    {
     "name": "stdout",
     "output_type": "stream",
     "text": [
      "[7 2 1 ... 4 5 6]\n"
     ]
    }
   ],
   "source": [
    "predict_4= class_4.predict(x_test0)\n",
    "print(predict_4)"
   ]
  },
  {
   "cell_type": "code",
   "execution_count": 28,
   "id": "7106ff42",
   "metadata": {},
   "outputs": [
    {
     "name": "stdout",
     "output_type": "stream",
     "text": [
      "0.9736\n"
     ]
    }
   ],
   "source": [
    "print(accuracy_score(y_test0,predict_4))"
   ]
  },
  {
   "cell_type": "code",
   "execution_count": 29,
   "id": "4e434f46",
   "metadata": {},
   "outputs": [
    {
     "name": "stdout",
     "output_type": "stream",
     "text": [
      "              precision    recall  f1-score   support\n",
      "\n",
      "           0       0.97      0.99      0.98       980\n",
      "           1       0.95      1.00      0.98      1135\n",
      "           2       0.98      0.97      0.97      1032\n",
      "           3       0.97      0.98      0.97      1010\n",
      "           4       0.98      0.98      0.98       982\n",
      "           5       0.97      0.97      0.97       892\n",
      "           6       0.99      0.99      0.99       958\n",
      "           7       0.96      0.97      0.96      1028\n",
      "           8       0.99      0.94      0.96       974\n",
      "           9       0.98      0.96      0.97      1009\n",
      "\n",
      "    accuracy                           0.97     10000\n",
      "   macro avg       0.97      0.97      0.97     10000\n",
      "weighted avg       0.97      0.97      0.97     10000\n",
      "\n"
     ]
    }
   ],
   "source": [
    "print(classification_report(y_test0,predict_4))"
   ]
  },
  {
   "cell_type": "markdown",
   "id": "bb4d1436",
   "metadata": {},
   "source": [
    "### K=4 Accuracy= 97.36%"
   ]
  },
  {
   "cell_type": "markdown",
   "id": "f80a4a99",
   "metadata": {},
   "source": [
    "# K=5"
   ]
  },
  {
   "cell_type": "code",
   "execution_count": 30,
   "id": "8f43ad25",
   "metadata": {},
   "outputs": [
    {
     "data": {
      "text/plain": [
       "KNeighborsClassifier()"
      ]
     },
     "execution_count": 30,
     "metadata": {},
     "output_type": "execute_result"
    }
   ],
   "source": [
    "class_5=KNeighborsClassifier(n_neighbors=5)\n",
    "class_5.fit(x0,y0)"
   ]
  },
  {
   "cell_type": "code",
   "execution_count": 31,
   "id": "15c316b4",
   "metadata": {},
   "outputs": [
    {
     "name": "stdout",
     "output_type": "stream",
     "text": [
      "[7 2 1 ... 4 5 6]\n"
     ]
    }
   ],
   "source": [
    "predict_5= class_5.predict(x_test0)\n",
    "print(predict_5)"
   ]
  },
  {
   "cell_type": "code",
   "execution_count": 32,
   "id": "9c40755b",
   "metadata": {},
   "outputs": [
    {
     "name": "stdout",
     "output_type": "stream",
     "text": [
      "0.9731\n"
     ]
    }
   ],
   "source": [
    "print(accuracy_score(y_test0,predict_5))"
   ]
  },
  {
   "cell_type": "code",
   "execution_count": 33,
   "id": "1c389a9f",
   "metadata": {},
   "outputs": [
    {
     "name": "stdout",
     "output_type": "stream",
     "text": [
      "              precision    recall  f1-score   support\n",
      "\n",
      "           0       0.97      0.99      0.98       980\n",
      "           1       0.96      1.00      0.98      1135\n",
      "           2       0.98      0.97      0.97      1032\n",
      "           3       0.97      0.98      0.98      1010\n",
      "           4       0.97      0.97      0.97       982\n",
      "           5       0.97      0.98      0.97       892\n",
      "           6       0.99      0.99      0.99       958\n",
      "           7       0.96      0.97      0.97      1028\n",
      "           8       0.99      0.94      0.97       974\n",
      "           9       0.96      0.96      0.96      1009\n",
      "\n",
      "    accuracy                           0.97     10000\n",
      "   macro avg       0.97      0.97      0.97     10000\n",
      "weighted avg       0.97      0.97      0.97     10000\n",
      "\n"
     ]
    }
   ],
   "source": [
    "print(classification_report(y_test0,predict_5))"
   ]
  },
  {
   "cell_type": "markdown",
   "id": "a6ed08c1",
   "metadata": {},
   "source": [
    "### K=5 Accuracy= 97.31%"
   ]
  },
  {
   "cell_type": "markdown",
   "id": "74d79d74",
   "metadata": {},
   "source": [
    "# K=13"
   ]
  },
  {
   "cell_type": "code",
   "execution_count": 34,
   "id": "65bb6db5",
   "metadata": {},
   "outputs": [
    {
     "data": {
      "text/plain": [
       "KNeighborsClassifier()"
      ]
     },
     "execution_count": 34,
     "metadata": {},
     "output_type": "execute_result"
    }
   ],
   "source": [
    "class_5=KNeighborsClassifier(n_neighbors=5)\n",
    "class_5.fit(x0,y0)"
   ]
  },
  {
   "cell_type": "code",
   "execution_count": 35,
   "id": "7ad76e68",
   "metadata": {},
   "outputs": [
    {
     "name": "stdout",
     "output_type": "stream",
     "text": [
      "[7 2 1 ... 4 5 6]\n"
     ]
    }
   ],
   "source": [
    "predict_5= class_5.predict(x_test0)\n",
    "print(predict_5)"
   ]
  },
  {
   "cell_type": "code",
   "execution_count": 36,
   "id": "7df78a3a",
   "metadata": {},
   "outputs": [
    {
     "name": "stdout",
     "output_type": "stream",
     "text": [
      "0.9731\n"
     ]
    }
   ],
   "source": [
    "print(accuracy_score(y_test0,predict_5))"
   ]
  },
  {
   "cell_type": "code",
   "execution_count": 37,
   "id": "4ea4835a",
   "metadata": {},
   "outputs": [
    {
     "name": "stdout",
     "output_type": "stream",
     "text": [
      "              precision    recall  f1-score   support\n",
      "\n",
      "           0       0.97      0.99      0.98       980\n",
      "           1       0.96      1.00      0.98      1135\n",
      "           2       0.98      0.97      0.97      1032\n",
      "           3       0.97      0.98      0.98      1010\n",
      "           4       0.97      0.97      0.97       982\n",
      "           5       0.97      0.98      0.97       892\n",
      "           6       0.99      0.99      0.99       958\n",
      "           7       0.96      0.97      0.97      1028\n",
      "           8       0.99      0.94      0.97       974\n",
      "           9       0.96      0.96      0.96      1009\n",
      "\n",
      "    accuracy                           0.97     10000\n",
      "   macro avg       0.97      0.97      0.97     10000\n",
      "weighted avg       0.97      0.97      0.97     10000\n",
      "\n"
     ]
    }
   ],
   "source": [
    "print(classification_report(y_test0,predict_5))"
   ]
  },
  {
   "cell_type": "markdown",
   "id": "4dba2a52",
   "metadata": {},
   "source": [
    "### K=13 Accuracy= 97.31%"
   ]
  },
  {
   "cell_type": "markdown",
   "id": "9cd73ebf",
   "metadata": {},
   "source": [
    "## From the many values of K taken K=3 gives us the best accuracy percentage and hence the value of K that should be ideally chosen here is 3."
   ]
  },
  {
   "cell_type": "markdown",
   "id": "4afb1514",
   "metadata": {},
   "source": [
    "# FINAL RESULTS: We successfully trained our KNN Classification system to recognise handwritten digits"
   ]
  },
  {
   "cell_type": "markdown",
   "id": "5cc7e1b7",
   "metadata": {},
   "source": [
    "## K=3"
   ]
  },
  {
   "cell_type": "markdown",
   "id": "f2c03450",
   "metadata": {},
   "source": [
    "## Accuracy= 97.74%"
   ]
  },
  {
   "cell_type": "code",
   "execution_count": null,
   "id": "6dc2ff45",
   "metadata": {},
   "outputs": [],
   "source": []
  }
 ],
 "metadata": {
  "kernelspec": {
   "display_name": "Python 3 (ipykernel)",
   "language": "python",
   "name": "python3"
  },
  "language_info": {
   "codemirror_mode": {
    "name": "ipython",
    "version": 3
   },
   "file_extension": ".py",
   "mimetype": "text/x-python",
   "name": "python",
   "nbconvert_exporter": "python",
   "pygments_lexer": "ipython3",
   "version": "3.9.12"
  }
 },
 "nbformat": 4,
 "nbformat_minor": 5
}
